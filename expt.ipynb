{
 "cells": [
  {
   "cell_type": "code",
   "execution_count": 1,
   "metadata": {},
   "outputs": [],
   "source": [
    "from datagen import DataGen\n",
    "import numpy as np\n",
    "\n",
    "num_users = 6\n",
    "d = 4\n",
    "m = 3\n",
    "\n",
    "thetas = [\n",
    "        [0.9 / np.linalg.norm([0.9, 0.1, 0.1, 0.1]), 0.1 / np.linalg.norm([0.9, 0.1, 0.1, 0.1]), 0.1 / np.linalg.norm([0.9, 0.1, 0.1, 0.1]), 0.1 / np.linalg.norm([0.9, 0.1, 0.1, 0.1])],\n",
    "        [0.9 / np.linalg.norm([0.9, 0.7, 0.1, 0.1]), 0.7 / np.linalg.norm([0.9, 0.7, 0.1, 0.1]), 0.1 / np.linalg.norm([0.9, 0.7, 0.1, 0.1]), 0.1 / np.linalg.norm([0.9, 0.7, 0.1, 0.1])],\n",
    "        [0.1 / np.linalg.norm([0.1, 0.1, 0.1, 0.9]), 0.1 / np.linalg.norm([0.1, 0.1, 0.1, 0.9]), 0.1 / np.linalg.norm([0.1, 0.1, 0.1, 0.9]), 0.9 / np.linalg.norm([0.1, 0.1, 0.1, 0.9])],\n",
    "        [0.9 / np.linalg.norm([0.9, 0.1, 0.1, 0.1]), 0.1 / np.linalg.norm([0.9, 0.1, 0.1, 0.1]), 0.1 / np.linalg.norm([0.9, 0.1, 0.1, 0.1]), 0.1 / np.linalg.norm([0.9, 0.1, 0.1, 0.1])],\n",
    "        [0.9 / np.linalg.norm([0.9, 0.7, 0.1, 0.1]), 0.7 / np.linalg.norm([0.9, 0.7, 0.1, 0.1]), 0.1 / np.linalg.norm([0.9, 0.7, 0.1, 0.1]), 0.1 / np.linalg.norm([0.9, 0.7, 0.1, 0.1])],\n",
    "        [0.1 / np.linalg.norm([0.1, 0.1, 0.1, 0.9]), 0.1 / np.linalg.norm([0.1, 0.1, 0.1, 0.9]), 0.1 / np.linalg.norm([0.1, 0.1, 0.1, 0.9]), 0.9 / np.linalg.norm([0.1, 0.1, 0.1, 0.9])]\n",
    "          ]\n",
    "\n",
    "items = np.array([\n",
    "    \n",
    "    np.array([0.9, 0.1, 0.1, 0.1]) / np.linalg.norm([0.9, 0.1, 0.1, 0.1]),\n",
    "    np.array([0.1, 0.9, 0.1, 0.1]) / np.linalg.norm([0.1, 0.9, 0.1, 0.1]),\n",
    "    np.array([0.1, 0.1, 0.1, 0.9]) / np.linalg.norm([0.1, 0.1, 0.1, 0.9]),\n",
    "    np.array([0.9, 0.8, 0.1, 0.1]) / np.linalg.norm([0.9, 0.8, 0.1, 0.1]),\n",
    "    np.array([0.1, 0.1, 0.9, 0.1]) / np.linalg.norm([0.1, 0.1, 0.9, 0.1])\n",
    "    \n",
    "])\n"
   ]
  },
  {
   "cell_type": "code",
   "execution_count": 2,
   "metadata": {},
   "outputs": [],
   "source": [
    "num_users = 2\n",
    "d = 2\n",
    "m = 2\n",
    "\n",
    "thetas = [\n",
    "    [0.9, 0.1],\n",
    "    [0.1, 0.9]\n",
    "]\n",
    "\n",
    "items = np.array([\n",
    "    \n",
    "    np.array([0.6, 0.4]),\n",
    "    np.array([0.4, 0.6]),\n",
    "    np.array([0.1, 0.3]),\n",
    "    np.array([0.3, 0.3]),\n",
    "\n",
    "])"
   ]
  },
  {
   "cell_type": "code",
   "execution_count": 15,
   "metadata": {},
   "outputs": [
    {
     "name": "stdout",
     "output_type": "stream",
     "text": [
      "Shape of thetas: (500, 5)\n",
      "Shape of items: (500, 5)\n",
      "\n",
      "First few rows of thetas:\n",
      "[[0.27311263 0.18301854 0.28336309 0.09918428 0.04633386]\n",
      " [0.24668033 0.21121831 0.10778465 0.10685739 0.15287636]\n",
      " [0.26427397 0.0163355  0.07266928 0.25011215 0.06903793]\n",
      " [0.08210809 0.18511506 0.09704879 0.01368172 0.22167984]\n",
      " [0.11451603 0.15148092 0.0620456  0.28642043 0.06686265]]\n",
      "\n",
      "First few rows of items:\n",
      "[[0.18158009 0.00618069 0.14424809 0.14768466 0.11321962]\n",
      " [0.07721507 0.2727751  0.17382442 0.11526317 0.23950559]\n",
      " [0.28817155 0.0465279  0.17005511 0.05142238 0.03142902]\n",
      " [0.08192517 0.0464821  0.22054612 0.13827362 0.13213259]\n",
      " [0.20148408 0.2527157  0.27244044 0.07343696 0.30121282]]\n"
     ]
    }
   ],
   "source": [
    "import numpy as np\n",
    "from datagen import DataGen\n",
    "\n",
    "\n",
    "def generate_clustered_data(m, num_users, num_items, d):\n",
    "    # Generate m cluster centers\n",
    "    cluster_centers = np.random.uniform(0, 0.7/np.sqrt(d), size=(m, d))\n",
    "    \n",
    "    # Assign users to clusters\n",
    "    user_cluster_assignments = np.random.randint(0, m, size=num_users)\n",
    "    \n",
    "    # Generate user thetas based on cluster assignments\n",
    "    thetas = np.array([cluster_centers[assignment] for assignment in user_cluster_assignments])\n",
    "    \n",
    "    # Generate item features\n",
    "    items = np.random.uniform(0, 0.7/np.sqrt(d), size=(num_items, d))\n",
    "    \n",
    "    return thetas, items\n",
    "\n",
    "# Example usage\n",
    "m = 10  # number of clusters\n",
    "num_users = 500\n",
    "num_items = 1000\n",
    "d = 5  # dimension of feature vectors\n",
    "\n",
    "thetas, items = generate_clustered_data(m, num_users, num_items, d)\n",
    "\n",
    "print(\"Shape of thetas:\", thetas.shape)\n",
    "print(\"Shape of items:\", items.shape)\n",
    "print(\"\\nFirst few rows of thetas:\")\n",
    "print(thetas[:5])\n",
    "print(\"\\nFirst few rows of items:\")\n",
    "print(items[:5])\n",
    "\n",
    "\n",
    "# thetas, items = generate_clustered_data(num_users)\n"
   ]
  },
  {
   "cell_type": "code",
   "execution_count": 16,
   "metadata": {},
   "outputs": [],
   "source": [
    "import warnings\n",
    "warnings.filterwarnings('ignore')"
   ]
  },
  {
   "cell_type": "markdown",
   "metadata": {},
   "source": [
    "## DATA GENERATION"
   ]
  },
  {
   "cell_type": "code",
   "execution_count": 17,
   "metadata": {},
   "outputs": [
    {
     "name": "stdout",
     "output_type": "stream",
     "text": [
      "thetas are\n",
      "[[0.27311263 0.18301854 0.28336309 0.09918428 0.04633386]\n",
      " [0.24668033 0.21121831 0.10778465 0.10685739 0.15287636]\n",
      " [0.26427397 0.0163355  0.07266928 0.25011215 0.06903793]\n",
      " ...\n",
      " [0.29243552 0.30858061 0.30615344 0.04108063 0.00153189]\n",
      " [0.08210809 0.18511506 0.09704879 0.01368172 0.22167984]\n",
      " [0.08210809 0.18511506 0.09704879 0.01368172 0.22167984]]\n",
      "saved thetas\n",
      "[[0.27311263 0.18301854 0.28336309 0.09918428 0.04633386]\n",
      " [0.24668033 0.21121831 0.10778465 0.10685739 0.15287636]\n",
      " [0.26427397 0.0163355  0.07266928 0.25011215 0.06903793]\n",
      " ...\n",
      " [0.29243552 0.30858061 0.30615344 0.04108063 0.00153189]\n",
      " [0.08210809 0.18511506 0.09704879 0.01368172 0.22167984]\n",
      " [0.08210809 0.18511506 0.09704879 0.01368172 0.22167984]]\n"
     ]
    },
    {
     "data": {
      "text/plain": [
       "(array([[0.60842777, 0.41716476, 0.62747388, 0.22484115, 0.10729491],\n",
       "        [0.6035256 , 0.40779134, 0.63739647, 0.22507666, 0.11193441],\n",
       "        [0.60313877, 0.40870343, 0.63385139, 0.23245219, 0.11568719],\n",
       "        ...,\n",
       "        [0.31205478, 0.58641097, 0.56708448, 0.47395876, 0.11190294],\n",
       "        [0.32055564, 0.58363196, 0.5623158 , 0.47608058, 0.11732879],\n",
       "        [0.32306753, 0.59269803, 0.55728809, 0.46927877, 0.11637797]]),\n",
       " array([[0.27311263, 0.18301854, 0.28336309, 0.09918428, 0.04633386],\n",
       "        [0.27311263, 0.18301854, 0.28336309, 0.09918428, 0.04633386],\n",
       "        [0.27311263, 0.18301854, 0.28336309, 0.09918428, 0.04633386],\n",
       "        ...,\n",
       "        [0.16563014, 0.31060711, 0.29677814, 0.25069309, 0.05855321],\n",
       "        [0.16563014, 0.31060711, 0.29677814, 0.25069309, 0.05855321],\n",
       "        [0.16563014, 0.31060711, 0.29677814, 0.25069309, 0.05855321]]))"
      ]
     },
     "execution_count": 17,
     "metadata": {},
     "output_type": "execute_result"
    }
   ],
   "source": [
    "DataGen(num_users=num_users, d=d, m=m, thetas=thetas, normalize=False).generate_dist()"
   ]
  },
  {
   "cell_type": "code",
   "execution_count": 18,
   "metadata": {},
   "outputs": [],
   "source": [
    "import numpy as np\n",
    "\n",
    "# Load the generated user features and thetas\n",
    "users = np.load(f'data/synthetic/{num_users}users_{m}clusters.npy')\n",
    "thetas = np.load(f'data/synthetic/{num_users}users_{m}clusters_thetas.npy')\n"
   ]
  },
  {
   "cell_type": "markdown",
   "metadata": {},
   "source": [
    "## RUN EXPERIMENT"
   ]
  },
  {
   "cell_type": "code",
   "execution_count": 19,
   "metadata": {},
   "outputs": [
    {
     "name": "stdout",
     "output_type": "stream",
     "text": [
      "Seed = 216\n"
     ]
    },
    {
     "name": "stderr",
     "output_type": "stream",
     "text": [
      "100%|██████████| 32767/32767 [00:10<00:00, 3212.16it/s]\n"
     ]
    },
    {
     "name": "stdout",
     "output_type": "stream",
     "text": [
      "CLUB : 32767 rounds 1297.2260073758798 product rewards 6049.9765625 binomial rewards\n",
      "\n",
      "\n"
     ]
    },
    {
     "name": "stderr",
     "output_type": "stream",
     "text": [
      "100%|██████████| 32767/32767 [00:09<00:00, 3450.98it/s]\n"
     ]
    },
    {
     "name": "stdout",
     "output_type": "stream",
     "text": [
      "Gamma - CLUB : 32767 rounds 1301.7504704381304 product rewards 6072.09375 binomial rewards\n",
      "\n",
      "\n",
      "Seed = 295\n"
     ]
    },
    {
     "name": "stderr",
     "output_type": "stream",
     "text": [
      "100%|██████████| 32767/32767 [00:09<00:00, 3513.29it/s]\n"
     ]
    },
    {
     "name": "stdout",
     "output_type": "stream",
     "text": [
      "CLUB : 32767 rounds 1300.3271815815237 product rewards 6061.6484375 binomial rewards\n",
      "\n",
      "\n"
     ]
    },
    {
     "name": "stderr",
     "output_type": "stream",
     "text": [
      "100%|██████████| 32767/32767 [00:09<00:00, 3336.69it/s]\n"
     ]
    },
    {
     "name": "stdout",
     "output_type": "stream",
     "text": [
      "Gamma - CLUB : 32767 rounds 1268.9915034963883 product rewards 6004.77734375 binomial rewards\n",
      "\n",
      "\n",
      "Seed = 322\n"
     ]
    },
    {
     "name": "stderr",
     "output_type": "stream",
     "text": [
      "100%|██████████| 32767/32767 [00:09<00:00, 3481.72it/s]\n"
     ]
    },
    {
     "name": "stdout",
     "output_type": "stream",
     "text": [
      "CLUB : 32767 rounds 1300.2385970825303 product rewards 6069.828125 binomial rewards\n",
      "\n",
      "\n"
     ]
    },
    {
     "name": "stderr",
     "output_type": "stream",
     "text": [
      "100%|██████████| 32767/32767 [00:09<00:00, 3494.58it/s]\n"
     ]
    },
    {
     "name": "stdout",
     "output_type": "stream",
     "text": [
      "Gamma - CLUB : 32767 rounds 1277.3525281742218 product rewards 6027.3515625 binomial rewards\n",
      "\n",
      "\n",
      "Seed = 137\n"
     ]
    },
    {
     "name": "stderr",
     "output_type": "stream",
     "text": [
      "100%|██████████| 32767/32767 [00:09<00:00, 3476.97it/s]\n"
     ]
    },
    {
     "name": "stdout",
     "output_type": "stream",
     "text": [
      "CLUB : 32767 rounds 1297.6892742034147 product rewards 6047.03515625 binomial rewards\n",
      "\n",
      "\n"
     ]
    },
    {
     "name": "stderr",
     "output_type": "stream",
     "text": [
      "100%|██████████| 32767/32767 [00:09<00:00, 3481.42it/s]\n"
     ]
    },
    {
     "name": "stdout",
     "output_type": "stream",
     "text": [
      "Gamma - CLUB : 32767 rounds 1281.50709827578 product rewards 6012.66796875 binomial rewards\n",
      "\n",
      "\n",
      "Seed = 118\n"
     ]
    },
    {
     "name": "stderr",
     "output_type": "stream",
     "text": [
      "100%|██████████| 32767/32767 [00:09<00:00, 3558.98it/s]\n"
     ]
    },
    {
     "name": "stdout",
     "output_type": "stream",
     "text": [
      "CLUB : 32767 rounds 1302.0737295424865 product rewards 6086.84375 binomial rewards\n",
      "\n",
      "\n"
     ]
    },
    {
     "name": "stderr",
     "output_type": "stream",
     "text": [
      "100%|██████████| 32767/32767 [00:09<00:00, 3510.48it/s]\n"
     ]
    },
    {
     "name": "stdout",
     "output_type": "stream",
     "text": [
      "Gamma - CLUB : 32767 rounds 1281.4237173921595 product rewards 6037.875 binomial rewards\n",
      "\n",
      "\n",
      "Seed = 71\n"
     ]
    },
    {
     "name": "stderr",
     "output_type": "stream",
     "text": [
      "100%|██████████| 32767/32767 [00:15<00:00, 2071.93it/s]\n"
     ]
    },
    {
     "name": "stdout",
     "output_type": "stream",
     "text": [
      "CLUB : 32767 rounds 1312.5659426530347 product rewards 6117.0859375 binomial rewards\n",
      "\n",
      "\n"
     ]
    },
    {
     "name": "stderr",
     "output_type": "stream",
     "text": [
      "100%|██████████| 32767/32767 [00:09<00:00, 3517.76it/s]\n"
     ]
    },
    {
     "name": "stdout",
     "output_type": "stream",
     "text": [
      "Gamma - CLUB : 32767 rounds 1295.7316423312334 product rewards 6068.44921875 binomial rewards\n",
      "\n",
      "\n",
      "Seed = 297\n"
     ]
    },
    {
     "name": "stderr",
     "output_type": "stream",
     "text": [
      "100%|██████████| 32767/32767 [00:09<00:00, 3474.67it/s]\n"
     ]
    },
    {
     "name": "stdout",
     "output_type": "stream",
     "text": [
      "CLUB : 32767 rounds 1283.6223146188142 product rewards 6026.3046875 binomial rewards\n",
      "\n",
      "\n"
     ]
    },
    {
     "name": "stderr",
     "output_type": "stream",
     "text": [
      "100%|██████████| 32767/32767 [00:09<00:00, 3522.67it/s]\n"
     ]
    },
    {
     "name": "stdout",
     "output_type": "stream",
     "text": [
      "Gamma - CLUB : 32767 rounds 1262.2871852610026 product rewards 5983.3125 binomial rewards\n",
      "\n",
      "\n",
      "Seed = 267\n"
     ]
    },
    {
     "name": "stderr",
     "output_type": "stream",
     "text": [
      "100%|██████████| 32767/32767 [00:09<00:00, 3538.91it/s]\n"
     ]
    },
    {
     "name": "stdout",
     "output_type": "stream",
     "text": [
      "CLUB : 32767 rounds 1289.569243534522 product rewards 6019.4140625 binomial rewards\n",
      "\n",
      "\n"
     ]
    },
    {
     "name": "stderr",
     "output_type": "stream",
     "text": [
      "100%|██████████| 32767/32767 [00:09<00:00, 3419.11it/s]\n"
     ]
    },
    {
     "name": "stdout",
     "output_type": "stream",
     "text": [
      "Gamma - CLUB : 32767 rounds 1286.9222257995054 product rewards 6016.2890625 binomial rewards\n",
      "\n",
      "\n",
      "Seed = 254\n"
     ]
    },
    {
     "name": "stderr",
     "output_type": "stream",
     "text": [
      "100%|██████████| 32767/32767 [00:10<00:00, 2984.98it/s]\n"
     ]
    },
    {
     "name": "stdout",
     "output_type": "stream",
     "text": [
      "CLUB : 32767 rounds 1297.0159537741768 product rewards 6075.75390625 binomial rewards\n",
      "\n",
      "\n"
     ]
    },
    {
     "name": "stderr",
     "output_type": "stream",
     "text": [
      "100%|██████████| 32767/32767 [00:09<00:00, 3561.36it/s]\n"
     ]
    },
    {
     "name": "stdout",
     "output_type": "stream",
     "text": [
      "Gamma - CLUB : 32767 rounds 1284.7105547734686 product rewards 6033.84375 binomial rewards\n",
      "\n",
      "\n",
      "Seed = 369\n"
     ]
    },
    {
     "name": "stderr",
     "output_type": "stream",
     "text": [
      "100%|██████████| 32767/32767 [00:17<00:00, 1852.56it/s]\n"
     ]
    },
    {
     "name": "stdout",
     "output_type": "stream",
     "text": [
      "CLUB : 32767 rounds 1298.9837893688612 product rewards 6054.19140625 binomial rewards\n",
      "\n",
      "\n"
     ]
    },
    {
     "name": "stderr",
     "output_type": "stream",
     "text": [
      "100%|██████████| 32767/32767 [00:09<00:00, 3524.58it/s]\n"
     ]
    },
    {
     "name": "stdout",
     "output_type": "stream",
     "text": [
      "Gamma - CLUB : 32767 rounds 1275.0729223225046 product rewards 5997.7265625 binomial rewards\n",
      "\n",
      "\n"
     ]
    },
    {
     "data": {
      "text/plain": [
       "([array([   0.        ,    0.        ,    0.        , ..., 1388.35426003,\n",
       "         1388.35426003, 1388.35426003]),\n",
       "  array([0.00000000e+00, 2.34114756e-01, 2.34114756e-01, ...,\n",
       "         1.38724554e+03, 1.38724554e+03, 1.38724554e+03]),\n",
       "  array([1.96492625e-01, 1.96492625e-01, 5.12895403e-01, ...,\n",
       "         1.38706139e+03, 1.38706139e+03, 1.38706139e+03]),\n",
       "  array([   0.        ,    0.        ,    0.        , ..., 1382.80256578,\n",
       "         1382.80256578, 1382.80256578]),\n",
       "  array([1.53095225e-01, 1.53095225e-01, 1.53095225e-01, ...,\n",
       "         1.38820228e+03, 1.38842339e+03, 1.38842339e+03]),\n",
       "  array([   0.        ,    0.        ,    0.        , ..., 1398.98270642,\n",
       "         1398.98270642, 1398.98270642]),\n",
       "  array([   0.        ,    0.        ,    0.        , ..., 1373.15357026,\n",
       "         1373.15357026, 1373.15357026]),\n",
       "  array([   0.        ,    0.        ,    0.        , ..., 1377.08699804,\n",
       "         1377.3211128 , 1377.3211128 ]),\n",
       "  array([0.00000000e+00, 0.00000000e+00, 3.16402778e-01, ...,\n",
       "         1.38100142e+03, 1.38126536e+03, 1.38126536e+03]),\n",
       "  array([   0.        ,    0.        ,    0.        , ..., 1383.20719751,\n",
       "         1383.20719751, 1383.20719751])],\n",
       " [array([   0.,    0.,    0., ..., 6459., 6459., 6459.]),\n",
       "  array([0.00e+00, 1.00e+00, 1.00e+00, ..., 6.45e+03, 6.45e+03, 6.45e+03]),\n",
       "  array([1.000e+00, 1.000e+00, 2.000e+00, ..., 6.459e+03, 6.459e+03,\n",
       "         6.459e+03]),\n",
       "  array([   0.,    0.,    0., ..., 6428., 6428., 6428.]),\n",
       "  array([1.000e+00, 1.000e+00, 1.000e+00, ..., 6.464e+03, 6.465e+03,\n",
       "         6.465e+03]),\n",
       "  array([   0.,    0.,    0., ..., 6499., 6499., 6499.]),\n",
       "  array([   0.,    0.,    0., ..., 6422., 6422., 6422.]),\n",
       "  array([   0.,    0.,    0., ..., 6408., 6409., 6409.]),\n",
       "  array([0.000e+00, 0.000e+00, 1.000e+00, ..., 6.441e+03, 6.442e+03,\n",
       "         6.442e+03]),\n",
       "  array([   0.,    0.,    0., ..., 6430., 6430., 6430.])],\n",
       " [array([   0.        ,    0.        ,    0.        , ..., 1391.40832743,\n",
       "         1391.40832743, 1391.40832743]),\n",
       "  array([0.00000000e+00, 2.34114756e-01, 2.34114756e-01, ...,\n",
       "         1.37061411e+03, 1.37061411e+03, 1.37061411e+03]),\n",
       "  array([1.96492625e-01, 1.96492625e-01, 5.12895403e-01, ...,\n",
       "         1.37760589e+03, 1.37760589e+03, 1.37760589e+03]),\n",
       "  array([   0.        ,    0.        ,    0.        , ..., 1374.38197082,\n",
       "         1374.38197082, 1374.38197082]),\n",
       "  array([1.53095225e-01, 1.53095225e-01, 1.53095225e-01, ...,\n",
       "         1.38036685e+03, 1.38058796e+03, 1.38058796e+03]),\n",
       "  array([   0.        ,    0.        ,    0.        , ..., 1393.75989991,\n",
       "         1393.75989991, 1393.75989991]),\n",
       "  array([   0.        ,    0.        ,    0.        , ..., 1363.09310491,\n",
       "         1363.09310491, 1363.09310491]),\n",
       "  array([   0.        ,    0.        ,    0.        , ..., 1374.2572083 ,\n",
       "         1374.47831995, 1374.47831995]),\n",
       "  array([0.00000000e+00, 0.00000000e+00, 3.16402778e-01, ...,\n",
       "         1.37812405e+03, 1.37838799e+03, 1.37838799e+03]),\n",
       "  array([   0.        ,    0.        ,    0.        , ..., 1373.91932384,\n",
       "         1373.91932384, 1373.91932384])],\n",
       " [array([   0.,    0.,    0., ..., 6468., 6468., 6468.]),\n",
       "  array([0.00e+00, 1.00e+00, 1.00e+00, ..., 6.46e+03, 6.46e+03, 6.46e+03]),\n",
       "  array([1.000e+00, 1.000e+00, 2.000e+00, ..., 6.468e+03, 6.468e+03,\n",
       "         6.468e+03]),\n",
       "  array([   0.,    0.,    0., ..., 6426., 6426., 6426.]),\n",
       "  array([1.000e+00, 1.000e+00, 1.000e+00, ..., 6.474e+03, 6.475e+03,\n",
       "         6.475e+03]),\n",
       "  array([   0.,    0.,    0., ..., 6502., 6502., 6502.]),\n",
       "  array([   0.,    0.,    0., ..., 6426., 6426., 6426.]),\n",
       "  array([   0.,    0.,    0., ..., 6414., 6415., 6415.]),\n",
       "  array([0.000e+00, 0.000e+00, 1.000e+00, ..., 6.440e+03, 6.441e+03,\n",
       "         6.441e+03]),\n",
       "  array([   0.,    0.,    0., ..., 6433., 6433., 6433.])])"
      ]
     },
     "execution_count": 19,
     "metadata": {},
     "output_type": "execute_result"
    }
   ],
   "source": [
    "from main import main\n",
    "num_stages = 15\n",
    "k=9\n",
    "L=1000\n",
    "gamma=0.5\n",
    "num_rounds = 10\n",
    "main(num_stages=num_stages, num_users=num_users, d=d, m=m, L=L, k=k, gamma=gamma, items=items, num_rounds=num_rounds, filename=f'data/synthetic/{num_users}users_{m}clusters_thetas.npy', pj=0)"
   ]
  },
  {
   "cell_type": "markdown",
   "metadata": {},
   "source": [
    "## RESULTS"
   ]
  },
  {
   "cell_type": "code",
   "execution_count": 20,
   "metadata": {},
   "outputs": [],
   "source": [
    "# num_users = 1000\n",
    "# num_stages = 15\n",
    "# num_rounds = 10\n",
    "# d = 20\n",
    "# L = 1000\n",
    "# k = 4\n",
    "# m = 10\n",
    "# gamma = 0.7"
   ]
  },
  {
   "cell_type": "code",
   "execution_count": 21,
   "metadata": {},
   "outputs": [],
   "source": [
    "import pickle as pkl\n",
    "\n",
    "club_path = f\"results/{num_users}numusers_{d}d_{num_stages}stages_{L}items_{num_rounds}_rounds_CLUB.pkl\"\n",
    "gclub_path = f\"results/{num_users}numusers_{d}d_{num_stages}stages_{L}items_{num_rounds}_rounds_GCLUB.pkl\"\n",
    "\n",
    "with open(club_path, 'rb') as f:\n",
    "    club = pkl.load(f)\n",
    "\n",
    "with open(gclub_path, 'rb') as f:\n",
    "    gclub = pkl.load(f)\n",
    "\n",
    "\n"
   ]
  },
  {
   "cell_type": "code",
   "execution_count": 22,
   "metadata": {},
   "outputs": [],
   "source": [
    "%%capture otpt\n",
    "\n",
    "round_num = 0\n",
    "\n",
    "from pprint import pprint\n",
    "cumulative_bin_rewards =  [0 for _ in range(2 ** num_stages - 1)]\n",
    "cumulative_rewards = [0 for _ in range(2 ** num_stages - 1)]\n",
    "gcumulative_bin_rewards = [0 for _ in range(2 ** num_stages - 1)]\n",
    "gcumulative_rewards = [0 for _ in range(2 ** num_stages - 1)]\n",
    "\n",
    "\n",
    "for t in range(2 ** num_stages - 1):\n",
    "    print(\"=\"*50)\n",
    "    print(f\"TIME - {t}\")\n",
    "\n",
    "    print(f\"USER - {club[round_num][t].user}\")\n",
    "\n",
    "    print(f\"USER ACTUAL THETA\")\n",
    "    pprint(club[round_num][t].user_cluster_theta_actual)\n",
    "\n",
    "    print(\"-\"*50)\n",
    "\n",
    "    print(\"CLUB ALGO\")\n",
    "\n",
    "    print(\"Recommended List:\")\n",
    "    pprint(club[round_num][t].recommended_list)\n",
    "    print(\"\\n\")\n",
    "\n",
    "    print(\"expected reward for each item in recommended list according to actual thetas\")\n",
    "    pprint(club[round_num][t].expected_rewards_actual)\n",
    "\n",
    "    print(\"expected reward for each item in recommended list according to the agent\")\n",
    "    pprint(club[round_num][t].expected_rewards_agent)\n",
    "\n",
    "    print(\"radius for each item in recommended list according to agent\")\n",
    "    pprint(club[round_num][t].rewards_radius_agent)\n",
    "\n",
    "    print(\"\\n\")\n",
    "\n",
    "    print(f\"INDEX of item chosen {club[round_num][t].index}\")\n",
    "    print(f\"estimated reward {club[round_num][t].prod_reward}, bin reward {club[round_num][t].bin_reward}\")\n",
    "    print(f\"dis estimated reward {club[round_num][t].dis_prod_reward}, dis bin reward {club[round_num][t].dis_bin_reward}\")\n",
    "\n",
    "    print(\"\\n\")    \n",
    "\n",
    "    print(\"Previous cluster theta estimate:\")\n",
    "    pprint(club[round_num][t].user_cluster_theta_estimate)\n",
    "    print(\"Theta update\")\n",
    "    pprint(club[round_num][t].user_cluster_theta_update)\n",
    "\n",
    "\n",
    "\n",
    "    print(\"\\n\\n\")\n",
    "\n",
    "    print(\"-\"*50)\n",
    "\n",
    "    print(\"GCLUB ALGO\")\n",
    "    print(\"List:\")\n",
    "    pprint(gclub[round_num][t].recommended_list)\n",
    "\n",
    "    print(\"\\n\")\n",
    "\n",
    "    print(\"expected reward for each item in recommended list according to actual thetas\")\n",
    "    pprint(gclub[round_num][t].expected_rewards_actual)\n",
    "\n",
    "    print(\"expected reward for each item in recommended list according to the agent\")\n",
    "    pprint(gclub[round_num][t].expected_rewards_agent)\n",
    "\n",
    "    print(\"radius for each item in recommended list according to agent\")\n",
    "    pprint(gclub[round_num][t].rewards_radius_agent)\n",
    "\n",
    "    print(\"\\n\")\n",
    "\n",
    "    print(f\"INDEX of item chosen {gclub[round_num][t].index}\")\n",
    "    print(f\"est reward {gclub[round_num][t].prod_reward}, bin reward {gclub[round_num][t].bin_reward}\")\n",
    "    print(f\"dis est reward {gclub[round_num][t].dis_prod_reward}, dis bin reward {gclub[round_num][t].dis_bin_reward}\")\n",
    "\n",
    "    print(\"\\n\")\n",
    "\n",
    "    print(\"Previous cluster theta estimate:\")\n",
    "    pprint(gclub[round_num][t].user_cluster_theta_estimate)\n",
    "    print(\"Theta update\")\n",
    "    pprint(gclub[round_num][t].user_cluster_theta_update)\n",
    "\n",
    "\n",
    "    if t==0:\n",
    "                cumulative_bin_rewards[t] = sum([club[rnd][t].dis_bin_reward for rnd in range(num_rounds)]) / num_rounds\n",
    "                cumulative_rewards[t] = sum([club[rnd][t].dis_prod_reward for rnd in range(num_rounds)]) / num_rounds\n",
    "                gcumulative_bin_rewards[t] = sum([gclub[rnd][t].dis_bin_reward for rnd in range(num_rounds)]) / num_rounds\n",
    "                gcumulative_rewards[t] = sum([gclub[rnd][t].dis_prod_reward for rnd in range(num_rounds)]) / num_rounds\n",
    "    else:\n",
    "                cumulative_bin_rewards[t] = sum([club[rnd][t].dis_bin_reward for rnd in range(num_rounds)]) / num_rounds + cumulative_bin_rewards[t-1]\n",
    "                cumulative_rewards[t] = sum([club[rnd][t].dis_prod_reward for rnd in range(num_rounds)]) / num_rounds + cumulative_rewards[t-1]\n",
    "                gcumulative_bin_rewards[t] = sum([gclub[rnd][t].dis_bin_reward for rnd in range(num_rounds)]) / num_rounds + gcumulative_bin_rewards[t-1]\n",
    "                gcumulative_rewards[t] = sum([gclub[rnd][t].dis_prod_reward for rnd in range(num_rounds)]) / num_rounds + gcumulative_rewards[t-1]"
   ]
  },
  {
   "cell_type": "code",
   "execution_count": 23,
   "metadata": {},
   "outputs": [],
   "source": [
    "with open(f'logs/{L}items_{k}perlist_{gamma}gamma_{num_users}users_{m}clusters_{num_stages}stages_{num_rounds}total_{round_num}round.txt', 'w') as f:\n",
    "    f.write(otpt.stdout)"
   ]
  },
  {
   "cell_type": "code",
   "execution_count": 24,
   "metadata": {},
   "outputs": [],
   "source": [
    "%%capture otpt\n",
    "print(\"BIN PROD GBIN GPROD\")\n",
    "\n",
    "for t in range(2**num_stages - 1):\n",
    "    print(f\"{round(cumulative_bin_rewards[t],3)} {round(cumulative_rewards[t],3)} {round(gcumulative_bin_rewards[t],3)} {round(gcumulative_rewards[t],3)}\")"
   ]
  },
  {
   "cell_type": "code",
   "execution_count": 25,
   "metadata": {},
   "outputs": [],
   "source": [
    "with open(f'cumulative_logs/{L}items_{k}perlist_{gamma}gamma_{num_users}users_{m}clusters_{num_stages}stages_{num_rounds}total.txt', 'w') as f:\n",
    "    f.write(otpt.stdout)"
   ]
  },
  {
   "cell_type": "code",
   "execution_count": 26,
   "metadata": {},
   "outputs": [
    {
     "data": {
      "image/png": "[encoded data removed]",
      "text/plain": [
       "<Figure size 640x480 with 1 Axes>"
      ]
     },
     "metadata": {},
     "output_type": "display_data"
    }
   ],
   "source": [
    "import matplotlib.pyplot as plt\n",
    "\n",
    "\n",
    "plt.plot(cumulative_bin_rewards, label='bin CLUB')\n",
    "plt.plot(gcumulative_bin_rewards, label='bin GCLUB')\n",
    "plt.plot(cumulative_rewards, label='exp CLUB')\n",
    "plt.plot(gcumulative_rewards, label='exp GCLUB')\n",
    "\n",
    "\n",
    "\n",
    "plt.xlabel('Time')\n",
    "plt.ylabel('reward')\n",
    "plt.title(f'{L}items_{k}perlist_{gamma}gamma_{num_users}users_{m}clusters')\n",
    "\n",
    "\n",
    "plt.legend()\n",
    "\n",
    "save_path = f'plots/{L}items_{k}perlist_{gamma}gamma_{num_users}users_{m}clusters_{num_stages}stages_{num_rounds}totalrounds.png'\n",
    "\n",
    "plt.savefig(save_path)\n",
    "\n",
    "plt.show()\n"
   ]
  },
  {
   "cell_type": "code",
   "execution_count": null,
   "metadata": {},
   "outputs": [],
   "source": []
  }
 ],
 "metadata": {
  "kernelspec": {
   "display_name": "contextual_bandits",
   "language": "python",
   "name": "python3"
  },
  "language_info": {
   "codemirror_mode": {
    "name": "ipython",
    "version": 3
   },
   "file_extension": ".py",
   "mimetype": "text/x-python",
   "name": "python",
   "nbconvert_exporter": "python",
   "pygments_lexer": "ipython3",
   "version": "3.10.14"
  }
 },
 "nbformat": 4,
 "nbformat_minor": 2
}
